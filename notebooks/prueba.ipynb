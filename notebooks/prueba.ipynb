{
 "cells": [
  {
   "cell_type": "code",
   "execution_count": 1,
   "metadata": {},
   "outputs": [],
   "source": [
    "import sys\n",
    "sys.path.append('C:\\ironhack\\Proyecto_final') # Hablar con el jefe\n",
    "from src.prueba import *"
   ]
  },
  {
   "cell_type": "code",
   "execution_count": 2,
   "metadata": {},
   "outputs": [
    {
     "name": "stdout",
     "output_type": "stream",
     "text": [
      "hola\n",
      "No se pudo hacer clic en el botón de cookies.\n",
      "Vuelve a intentarlo capooo!.\n"
     ]
    }
   ],
   "source": [
    "url= 'https://rfevb-web.dataproject.com/Statistics.aspx?ID=111&PID=137'\n",
    "parametro = 'estadisticas_jugador'\n",
    "h= scraping(url,parametro)"
   ]
  },
  {
   "cell_type": "code",
   "execution_count": 4,
   "metadata": {},
   "outputs": [
    {
     "name": "stdout",
     "output_type": "stream",
     "text": [
      "hola\n",
      "No se pudo hacer clic en el botón de cookies.\n",
      "Error durante el scraping: cannot access local variable 'clas' where it is not associated with a value\n"
     ]
    }
   ],
   "source": [
    "\n",
    "url = 'https://rfevb-web.dataproject.com/Statistics.aspx?ID=111&PID=137'\n",
    "parametro = 'estadistica_equipo'\n",
    "result = scraping(url, parametro)"
   ]
  },
  {
   "cell_type": "code",
   "execution_count": 4,
   "metadata": {},
   "outputs": [],
   "source": [
    "result"
   ]
  },
  {
   "cell_type": "code",
   "execution_count": null,
   "metadata": {},
   "outputs": [],
   "source": []
  },
  {
   "cell_type": "code",
   "execution_count": null,
   "metadata": {},
   "outputs": [],
   "source": []
  },
  {
   "cell_type": "code",
   "execution_count": null,
   "metadata": {},
   "outputs": [],
   "source": [
    "url = 'https://rfevb-web.dataproject.com/Statistics.aspx?ID=111&PID=137'\n",
    "parametro = 'estadistica_jugador'\n",
    "result = scraping(url,parametro)"
   ]
  },
  {
   "cell_type": "code",
   "execution_count": null,
   "metadata": {},
   "outputs": [],
   "source": [
    "result[5]"
   ]
  },
  {
   "cell_type": "code",
   "execution_count": null,
   "metadata": {},
   "outputs": [],
   "source": [
    "url = 'https://www.flashscore.es/voleibol/espana/superliga-masculina-2022-2023/#/OO5qdsBt/table/overall'\n",
    "parametro = 'clasificacion'\n",
    "result = scraping(url,parametro)"
   ]
  },
  {
   "cell_type": "code",
   "execution_count": null,
   "metadata": {},
   "outputs": [],
   "source": [
    "result"
   ]
  },
  {
   "cell_type": "code",
   "execution_count": null,
   "metadata": {},
   "outputs": [],
   "source": [
    "url = 'https://www.flashscore.es/voleibol/espana/superliga-masculina/clasificacion/#/WAQqTkUh/table/overall'\n",
    "driver = webdriver.Chrome(options = opciones)\n",
    "driver.get(url)"
   ]
  },
  {
   "cell_type": "code",
   "execution_count": null,
   "metadata": {},
   "outputs": [],
   "source": [
    "driver.find_element(By.CSS_SELECTOR,'#onetrust-accept-btn-handler').click()\n",
    "clas = driver.find_element(By.CSS_SELECTOR, '#tournament-table-tabs-and-content').text.split('\\n')\n",
    "print('Scraping exitoso')\n",
    "clas"
   ]
  },
  {
   "cell_type": "code",
   "execution_count": null,
   "metadata": {},
   "outputs": [],
   "source": []
  }
 ],
 "metadata": {
  "kernelspec": {
   "display_name": "ProyectoFinal",
   "language": "python",
   "name": "python3"
  },
  "language_info": {
   "codemirror_mode": {
    "name": "ipython",
    "version": 3
   },
   "file_extension": ".py",
   "mimetype": "text/x-python",
   "name": "python",
   "nbconvert_exporter": "python",
   "pygments_lexer": "ipython3",
   "version": "3.11.5"
  }
 },
 "nbformat": 4,
 "nbformat_minor": 2
}
